{
 "cells": [
  {
   "cell_type": "code",
   "execution_count": 30,
   "id": "421b411a",
   "metadata": {},
   "outputs": [
    {
     "name": "stdout",
     "output_type": "stream",
     "text": [
      "The autoreload extension is already loaded. To reload it, use:\n",
      "  %reload_ext autoreload\n"
     ]
    }
   ],
   "source": [
    "from PTC_dataset import PTC_dataset\n",
    "from data.utils import *\n",
    "from utils import read_source_file, train_test_split\n",
    "\n",
    "%load_ext autoreload\n",
    "%autoreload 3"
   ]
  },
  {
   "cell_type": "code",
   "execution_count": 32,
   "id": "d89843f3",
   "metadata": {},
   "outputs": [
    {
     "ename": "TypeError",
     "evalue": "fit() missing 1 required positional argument: 'labels'",
     "output_type": "error",
     "traceback": [
      "\u001b[0;31m---------------------------------------------------------------------------\u001b[0m",
      "\u001b[0;31mTypeError\u001b[0m                                 Traceback (most recent call last)",
      "Input \u001b[0;32mIn [32]\u001b[0m, in \u001b[0;36m<module>\u001b[0;34m\u001b[0m\n\u001b[1;32m      4\u001b[0m train_idx, test_idx \u001b[38;5;241m=\u001b[39m train_test_split(ds, \u001b[38;5;241m0.8\u001b[39m)\n\u001b[1;32m      6\u001b[0m normlizer \u001b[38;5;241m=\u001b[39m Normalizer()\u001b[38;5;241m.\u001b[39mfit(ds)\n\u001b[0;32m----> 7\u001b[0m f_selector \u001b[38;5;241m=\u001b[39m \u001b[43mFeatureSelector\u001b[49m\u001b[43m(\u001b[49m\u001b[43m)\u001b[49m\u001b[38;5;241;43m.\u001b[39;49m\u001b[43mfit\u001b[49m\u001b[43m(\u001b[49m\u001b[43mds\u001b[49m\u001b[43m)\u001b[49m\n",
      "\u001b[0;31mTypeError\u001b[0m: fit() missing 1 required positional argument: 'labels'"
     ]
    }
   ],
   "source": [
    "path = \"data/PTC.csv\"\n",
    "ds = read_source_file(path)\n",
    "\n",
    "labels\n",
    "train_idx, test_idx = train_test_split(ds, 0.8)\n",
    "\n",
    "normlizer = Normalizer().fit(ds)\n",
    "f_selector = FeatureSelector().fit(ds)\n"
   ]
  },
  {
   "cell_type": "code",
   "execution_count": 22,
   "id": "9c7c3bd2",
   "metadata": {},
   "outputs": [
    {
     "ename": "AttributeError",
     "evalue": "type object 'PTC_dataset' has no attribute 'ds_path'",
     "output_type": "error",
     "traceback": [
      "\u001b[0;31m---------------------------------------------------------------------------\u001b[0m",
      "\u001b[0;31mAttributeError\u001b[0m                            Traceback (most recent call last)",
      "Input \u001b[0;32mIn [22]\u001b[0m, in \u001b[0;36m<module>\u001b[0;34m\u001b[0m\n\u001b[0;32m----> 1\u001b[0m \u001b[43mPTC_dataset\u001b[49m\u001b[38;5;241;43m.\u001b[39;49m\u001b[43mds_path\u001b[49m\n",
      "\u001b[0;31mAttributeError\u001b[0m: type object 'PTC_dataset' has no attribute 'ds_path'"
     ]
    }
   ],
   "source": [
    "PTC_dataset.ds_path"
   ]
  },
  {
   "cell_type": "code",
   "execution_count": null,
   "id": "c486ee79",
   "metadata": {},
   "outputs": [],
   "source": []
  },
  {
   "cell_type": "code",
   "execution_count": 3,
   "id": "eca528b8",
   "metadata": {},
   "outputs": [
    {
     "ename": "SyntaxError",
     "evalue": "invalid syntax (3193352743.py, line 1)",
     "output_type": "error",
     "traceback": [
      "\u001b[0;36m  Input \u001b[0;32mIn [3]\u001b[0;36m\u001b[0m\n\u001b[0;31m    from PTC_dataset\u001b[0m\n\u001b[0m                    ^\u001b[0m\n\u001b[0;31mSyntaxError\u001b[0m\u001b[0;31m:\u001b[0m invalid syntax\n"
     ]
    }
   ],
   "source": [
    "from PTC_dataset"
   ]
  },
  {
   "cell_type": "code",
   "execution_count": null,
   "id": "34f911ac",
   "metadata": {},
   "outputs": [],
   "source": []
  }
 ],
 "metadata": {
  "kernelspec": {
   "display_name": "Python 3 (ipykernel)",
   "language": "python",
   "name": "python3"
  },
  "language_info": {
   "codemirror_mode": {
    "name": "ipython",
    "version": 3
   },
   "file_extension": ".py",
   "mimetype": "text/x-python",
   "name": "python",
   "nbconvert_exporter": "python",
   "pygments_lexer": "ipython3",
   "version": "3.9.10"
  }
 },
 "nbformat": 4,
 "nbformat_minor": 5
}
